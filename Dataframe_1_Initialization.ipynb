{
  "cells": [
    {
      "cell_type": "markdown",
      "metadata": {
        "id": "view-in-github",
        "colab_type": "text"
      },
      "source": [
        "<a href=\"https://colab.research.google.com/github/adichat08/CNN-for-Bird-s-Eye-Human-Detection/blob/main/Dataframe_1_Initialization.ipynb\" target=\"_parent\"><img src=\"https://colab.research.google.com/assets/colab-badge.svg\" alt=\"Open In Colab\"/></a>"
      ]
    },
    {
      "cell_type": "markdown",
      "metadata": {
        "id": "HP2YvmBWcKvG"
      },
      "source": [
        "# Dataframe 1 Initialization"
      ]
    },
    {
      "cell_type": "markdown",
      "source": [
        "The section below initializes one part of the combined dataset. This dataset contains CCTV images of human figures and images without human figures present."
      ],
      "metadata": {
        "id": "To1ti5ivz0QV"
      }
    },
    {
      "cell_type": "code",
      "execution_count": null,
      "metadata": {
        "id": "EWfsoxQg7UV8"
      },
      "outputs": [],
      "source": [
        "import zipfile\n",
        "with zipfile.ZipFile(\"human_identification_data.zip\", \"r\") as zip_ref:\n",
        "    zip_ref.extractall(\"foo\")"
      ]
    },
    {
      "cell_type": "code",
      "execution_count": null,
      "metadata": {
        "id": "qLDHhLz--Sgd"
      },
      "outputs": [],
      "source": [
        "import glob\n",
        "import cv2\n",
        "dataset = []\n",
        "files = glob.glob (\"foo/human detection dataset/0/*.png\")\n",
        "for myFile in files:\n",
        "  image = cv2.imread(myFile)\n",
        "  res = cv2.resize(image, dsize=(125, 125), interpolation=cv2.INTER_CUBIC)\n",
        "  dataset.append(res)\n",
        "dataset = np.array(dataset)\n",
        "print(dataset)"
      ]
    },
    {
      "cell_type": "code",
      "execution_count": null,
      "metadata": {
        "id": "4TW4CrJGTPVl"
      },
      "outputs": [],
      "source": [
        "humans = []\n",
        "for i in range(362):\n",
        "  humans.append(0)"
      ]
    },
    {
      "cell_type": "code",
      "execution_count": null,
      "metadata": {
        "id": "3DSak21SV0hN"
      },
      "outputs": [],
      "source": [
        "humans_1 = []\n",
        "for i in range(559):\n",
        "  humans_1.append(1)"
      ]
    },
    {
      "cell_type": "code",
      "execution_count": null,
      "metadata": {
        "id": "an-qXoAtSA3U"
      },
      "outputs": [],
      "source": [
        "dataset_1 = []\n",
        "files = glob.glob (\"foo/human detection dataset/1/*.png\")\n",
        "for myFile in files:\n",
        "  image_1 = cv2.imread(myFile)\n",
        "  res_1 = cv2.resize(image_1, dsize=(125, 125), interpolation=cv2.INTER_CUBIC)\n",
        "  dataset_1.append(res_1)\n",
        "dataset_1 = np.array(dataset_1)\n",
        "print(dataset_1)"
      ]
    },
    {
      "cell_type": "code",
      "execution_count": null,
      "metadata": {
        "id": "43Eqp4xRonoM"
      },
      "outputs": [],
      "source": [
        "print(dataset_1.shape)"
      ]
    },
    {
      "cell_type": "code",
      "execution_count": null,
      "metadata": {
        "id": "7hSXN4wrpQvi"
      },
      "outputs": [],
      "source": [
        "full_dataset = []\n",
        "for i in dataset:\n",
        "  full_dataset.append(i)\n",
        "for j in dataset_1:\n",
        "  full_dataset.append(j)"
      ]
    },
    {
      "cell_type": "code",
      "execution_count": null,
      "metadata": {
        "id": "z07sayLio5vi"
      },
      "outputs": [],
      "source": [
        "full_dataset = np.array(full_dataset)"
      ]
    },
    {
      "cell_type": "code",
      "execution_count": null,
      "metadata": {
        "id": "RJRWFhGLpmkL"
      },
      "outputs": [],
      "source": [
        "print(full_dataset.shape)"
      ]
    },
    {
      "cell_type": "code",
      "execution_count": null,
      "metadata": {
        "id": "_Tr5b2XcqA2h"
      },
      "outputs": [],
      "source": [
        "humans_final = humans + humans_1"
      ]
    },
    {
      "cell_type": "code",
      "execution_count": null,
      "metadata": {
        "id": "gq9p5tYWdUXr"
      },
      "outputs": [],
      "source": [
        "from sklearn.model_selection import train_test_split\n",
        "X = full_dataset\n",
        "y = humans_final\n",
        "X_train_full, X_test, y_train_full, y_test = train_test_split(X,y, test_size=0.2, random_state=0)"
      ]
    },
    {
      "cell_type": "code",
      "execution_count": null,
      "metadata": {
        "id": "mrZJxwwMcFbZ"
      },
      "outputs": [],
      "source": [
        "print(X_train_full.shape)\n",
        "print(X_train_full)"
      ]
    },
    {
      "cell_type": "code",
      "execution_count": null,
      "metadata": {
        "id": "dsCkrIyTpmsq"
      },
      "outputs": [],
      "source": [
        "X_train_full = np.array(X_train_full)\n",
        "X_test = np.array(X_test)\n",
        "y_train_full = np.array(y_train_full)\n",
        "y_test = np.array(y_test)"
      ]
    },
    {
      "cell_type": "code",
      "execution_count": null,
      "metadata": {
        "id": "l8vBD6I3uLGS"
      },
      "outputs": [],
      "source": [
        "from sklearn.model_selection import train_test_split\n",
        "X = X_train_full\n",
        "y = y_train_full\n",
        "X_train, X_val, y_train, y_val = train_test_split(X,y, test_size=0.2, random_state=0)"
      ]
    },
    {
      "cell_type": "code",
      "execution_count": null,
      "metadata": {
        "id": "nauRaZJ-106s"
      },
      "outputs": [],
      "source": [
        "len(X_train)"
      ]
    },
    {
      "cell_type": "code",
      "execution_count": null,
      "metadata": {
        "id": "yQlcevW21-AX"
      },
      "outputs": [],
      "source": [
        "len(X_val)"
      ]
    },
    {
      "cell_type": "code",
      "execution_count": null,
      "metadata": {
        "id": "EAXhTMDr2Ank"
      },
      "outputs": [],
      "source": [
        "len(X_test)"
      ]
    },
    {
      "cell_type": "code",
      "source": [
        "del dataset\n",
        "del dataset_1\n",
        "del full_dataset"
      ],
      "metadata": {
        "id": "BGUL_DRR2Qgz"
      },
      "execution_count": null,
      "outputs": []
    },
    {
      "cell_type": "code",
      "execution_count": null,
      "metadata": {
        "id": "mMQMbOf8wRes"
      },
      "outputs": [],
      "source": [
        "# validation_dataframe = pd.DataFrame()\n",
        "# validation_dataframe['Humans'] = y_val\n",
        "# validation_dataframe[\"Image\"] = [i for i in X_val]\n",
        "# validation_dataframe"
      ]
    },
    {
      "cell_type": "code",
      "execution_count": null,
      "metadata": {
        "id": "soowIcpjzKtP"
      },
      "outputs": [],
      "source": [
        "# train_dataframe = pd.DataFrame()\n",
        "# train_dataframe['Humans'] = y_train\n",
        "# train_dataframe[\"Image\"] = [i for i in X_train]\n",
        "# train_dataframe"
      ]
    },
    {
      "cell_type": "code",
      "execution_count": null,
      "metadata": {
        "id": "GuWvWvsR0HkT"
      },
      "outputs": [],
      "source": [
        "# test_dataframe = pd.DataFrame()\n",
        "# test_dataframe['Humans'] = y_test\n",
        "# test_dataframe[\"Image\"] = [i for i in X_test]\n",
        "# test_dataframe"
      ]
    },
    {
      "cell_type": "code",
      "execution_count": null,
      "metadata": {
        "id": "-jy_KX8pRDZE"
      },
      "outputs": [],
      "source": [
        "# train_data = tf.data.Dataset.from_tensor_slices((X_train, y_train))"
      ]
    },
    {
      "cell_type": "code",
      "execution_count": null,
      "metadata": {
        "id": "hs_w4_9eROiB"
      },
      "outputs": [],
      "source": [
        "# validation_data = tf.data.Dataset.from_tensor_slices((X_val, y_val))"
      ]
    },
    {
      "cell_type": "code",
      "execution_count": null,
      "metadata": {
        "id": "xe8dn5qMRWNk"
      },
      "outputs": [],
      "source": [
        "# test_data = tf.data.Dataset.from_tensor_slices((X_test, y_test))"
      ]
    },
    {
      "cell_type": "code",
      "execution_count": null,
      "metadata": {
        "id": "f9bYJsMqR6qn"
      },
      "outputs": [],
      "source": []
    }
  ],
  "metadata": {
    "colab": {
      "collapsed_sections": [
        "HP2YvmBWcKvG",
        "UABk7lsN0bcJ",
        "2gJEgAiiF4_Q",
        "fCIM1OKldA0J",
        "dMj1HsMs7eWJ",
        "BrTubRn-Cb-3"
      ],
      "provenance": [],
      "include_colab_link": true
    },
    "gpuClass": "standard",
    "kernelspec": {
      "display_name": "Python 3",
      "name": "python3"
    },
    "language_info": {
      "name": "python"
    },
    "accelerator": "GPU"
  },
  "nbformat": 4,
  "nbformat_minor": 0
}