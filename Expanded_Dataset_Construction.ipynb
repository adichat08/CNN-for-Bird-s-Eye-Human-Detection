{
  "cells": [
    {
      "cell_type": "markdown",
      "metadata": {
        "id": "view-in-github",
        "colab_type": "text"
      },
      "source": [
        "<a href=\"https://colab.research.google.com/github/adichat08/CNN-for-Bird-s-Eye-Human-Detection/blob/main/Expanded_Dataset_Construction.ipynb\" target=\"_parent\"><img src=\"https://colab.research.google.com/assets/colab-badge.svg\" alt=\"Open In Colab\"/></a>"
      ]
    },
    {
      "cell_type": "markdown",
      "metadata": {
        "id": "es2Y1286M3rE"
      },
      "source": [
        "# Expanded Dataset Construction"
      ]
    },
    {
      "cell_type": "code",
      "execution_count": null,
      "metadata": {
        "id": "ZDR10Hw8NBYp"
      },
      "outputs": [],
      "source": [
        "expanded_dataset = np.vstack((X_train_full, X_train_full_augmented))\n",
        "del X_train_full, X_train_full_augmented\n",
        "# expanded_dataset = np.vstack((expanded_dataset, X_train_full_augmented_2))\n",
        "# del X_train_full_augmented_2\n",
        "expanded_dataset = np.vstack((expanded_dataset, dataset_h))\n",
        "del dataset_h\n",
        "expanded_dataset = np.vstack((expanded_dataset, dataset_h_augmented))\n",
        "del dataset_h_augmented\n",
        "# expanded_dataset = np.vstack((expanded_dataset, dataset_h_augmented_2))\n",
        "# del dataset_h_augmented_2\n",
        "expanded_dataset = np.vstack((expanded_dataset,landscapes_dataset))\n",
        "del landscapes_dataset"
      ]
    },
    {
      "cell_type": "code",
      "execution_count": null,
      "metadata": {
        "id": "zyDFE7IuSbMH"
      },
      "outputs": [],
      "source": [
        "# expanded_y = list(y_train_full) + list(y_train_full) + list(y_train_full) + list(humans_h) + list(humans_h) + list(humans_h)"
      ]
    },
    {
      "cell_type": "code",
      "source": [
        "expanded_y = list(y_train_full) + list(y_train_full) + list(humans_h) + list(humans_h) + list(non_humans)"
      ],
      "metadata": {
        "id": "l2UDpFP6xXnI"
      },
      "execution_count": null,
      "outputs": []
    },
    {
      "cell_type": "code",
      "execution_count": null,
      "metadata": {
        "id": "uL6Kg8SSUztv"
      },
      "outputs": [],
      "source": [
        "expanded_y = np.array(expanded_y)"
      ]
    },
    {
      "cell_type": "code",
      "source": [
        "print(expanded_dataset.shape)"
      ],
      "metadata": {
        "id": "7H67FawNzwjq",
        "colab": {
          "base_uri": "https://localhost:8080/"
        },
        "outputId": "bce0368d-306a-4a43-dd41-ca15e2d528bc"
      },
      "execution_count": null,
      "outputs": [
        {
          "output_type": "stream",
          "name": "stdout",
          "text": [
            "(6845, 125, 125, 3)\n"
          ]
        }
      ]
    },
    {
      "cell_type": "code",
      "source": [
        "expanded_dataset, expanded_y = shuffle(expanded_dataset, expanded_y)"
      ],
      "metadata": {
        "id": "2Sl--i1r0HKd"
      },
      "execution_count": null,
      "outputs": []
    },
    {
      "cell_type": "code",
      "source": [
        "X = expanded_dataset\n",
        "y = expanded_y\n",
        "expanded_X_train, expanded_X_test, expanded_y_train, expanded_y_test = train_test_split(X,y, test_size=0.2, random_state=0)"
      ],
      "metadata": {
        "id": "STRHtDHdqYYS"
      },
      "execution_count": null,
      "outputs": []
    },
    {
      "cell_type": "code",
      "source": [
        "del expanded_dataset\n",
        "del expanded_y\n",
        "del X_train\n",
        "del y_train\n",
        "del y_train_full\n",
        "del humans_h\n",
        "del non_humans"
      ],
      "metadata": {
        "id": "6hY9efTxqzOD"
      },
      "execution_count": null,
      "outputs": []
    }
  ],
  "metadata": {
    "colab": {
      "collapsed_sections": [
        "HP2YvmBWcKvG",
        "UABk7lsN0bcJ",
        "2gJEgAiiF4_Q",
        "fCIM1OKldA0J",
        "dMj1HsMs7eWJ",
        "BrTubRn-Cb-3"
      ],
      "provenance": [],
      "include_colab_link": true
    },
    "gpuClass": "standard",
    "kernelspec": {
      "display_name": "Python 3",
      "name": "python3"
    },
    "language_info": {
      "name": "python"
    },
    "accelerator": "GPU"
  },
  "nbformat": 4,
  "nbformat_minor": 0
}