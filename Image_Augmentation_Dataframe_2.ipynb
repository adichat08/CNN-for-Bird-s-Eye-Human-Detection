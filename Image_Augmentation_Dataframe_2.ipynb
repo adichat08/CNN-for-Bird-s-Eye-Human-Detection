{
  "cells": [
    {
      "cell_type": "markdown",
      "metadata": {
        "id": "view-in-github",
        "colab_type": "text"
      },
      "source": [
        "<a href=\"https://colab.research.google.com/github/adichat08/CNN-for-Bird-s-Eye-Human-Detection/blob/main/Image_Augmentation_Dataframe_2.ipynb\" target=\"_parent\"><img src=\"https://colab.research.google.com/assets/colab-badge.svg\" alt=\"Open In Colab\"/></a>"
      ]
    },
    {
      "cell_type": "markdown",
      "metadata": {
        "id": "fJy-FwlrjxS4"
      },
      "source": [
        "# Image Augmentation - Dataframe 2"
      ]
    },
    {
      "cell_type": "code",
      "execution_count": null,
      "metadata": {
        "id": "cnWQ8Kh0kZLk"
      },
      "outputs": [],
      "source": [
        "dataset_h = (dataset_h / 255.0)"
      ]
    },
    {
      "cell_type": "code",
      "execution_count": null,
      "metadata": {
        "id": "UvU0MDzBktqS"
      },
      "outputs": [],
      "source": [
        "data_augmentation_1 = tf.keras.Sequential([\n",
        "     layers.experimental.preprocessing.RandomFlip(\"horizontal_and_vertical\"),\n",
        "     layers.experimental.preprocessing.RandomRotation(0.4),\n",
        "     layers.experimental.preprocessing.RandomContrast((0.5,1.5)),\n",
        "     layers.experimental.preprocessing.RandomZoom(height_factor=(-0.3,1),width_factor=(-0.3,1))\n",
        "     ])"
      ]
    },
    {
      "cell_type": "code",
      "execution_count": null,
      "metadata": {
        "id": "HpDZgkrzkuVH"
      },
      "outputs": [],
      "source": [
        "dataset_h_augmented = []\n",
        "for i in dataset_h:\n",
        "  dataset_h_augmented.append(data_augmentation_1(i))"
      ]
    },
    {
      "cell_type": "code",
      "execution_count": null,
      "metadata": {
        "id": "TwAELUT4nVME"
      },
      "outputs": [],
      "source": [
        "# dataset_h_augmented_2 = []\n",
        "# for i in dataset_h:\n",
        "#   dataset_h_augmented_2.append(data_augmentation_1(i))"
      ]
    },
    {
      "cell_type": "code",
      "execution_count": null,
      "metadata": {
        "id": "aP4zqpV1oQqk"
      },
      "outputs": [],
      "source": [
        "dataset_h_augmented = np.array(dataset_h_augmented)\n",
        "# dataset_h_augmented_2 = np.array(dataset_h_augmented_2)"
      ]
    }
  ],
  "metadata": {
    "colab": {
      "collapsed_sections": [
        "HP2YvmBWcKvG",
        "UABk7lsN0bcJ",
        "2gJEgAiiF4_Q",
        "fCIM1OKldA0J",
        "dMj1HsMs7eWJ",
        "BrTubRn-Cb-3"
      ],
      "provenance": [],
      "include_colab_link": true
    },
    "gpuClass": "standard",
    "kernelspec": {
      "display_name": "Python 3",
      "name": "python3"
    },
    "language_info": {
      "name": "python"
    },
    "accelerator": "GPU"
  },
  "nbformat": 4,
  "nbformat_minor": 0
}