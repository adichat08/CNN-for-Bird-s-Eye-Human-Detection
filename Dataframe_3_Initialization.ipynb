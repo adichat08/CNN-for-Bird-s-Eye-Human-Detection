{
  "cells": [
    {
      "cell_type": "markdown",
      "metadata": {
        "id": "view-in-github",
        "colab_type": "text"
      },
      "source": [
        "<a href=\"https://colab.research.google.com/github/adichat08/CNN-for-Bird-s-Eye-Human-Detection/blob/main/Dataframe_3_Initialization.ipynb\" target=\"_parent\"><img src=\"https://colab.research.google.com/assets/colab-badge.svg\" alt=\"Open In Colab\"/></a>"
      ]
    },
    {
      "cell_type": "markdown",
      "source": [
        "# DataFrame 3 Initialization"
      ],
      "metadata": {
        "id": "VOTpVV2u26Qm"
      }
    },
    {
      "cell_type": "markdown",
      "source": [
        "This creates the a dataset of lansdcape images"
      ],
      "metadata": {
        "id": "DIyULevM2pyE"
      }
    },
    {
      "cell_type": "code",
      "source": [
        "import zipfile\n",
        "with zipfile.ZipFile(\"Landscape_Images.zip\", \"r\") as zip_ref:\n",
        "    zip_ref.extractall(\"foo_L\")"
      ],
      "metadata": {
        "id": "ziN_yEqq3bQT"
      },
      "execution_count": null,
      "outputs": []
    },
    {
      "cell_type": "code",
      "source": [
        "import cv2\n",
        "import glob\n",
        "landscapes_dataset = []\n",
        "path = \"foo_L/*.jpg*\"\n",
        "for file in glob.glob(path):\n",
        "   a= cv2.imread(file)\n",
        "   res = cv2.resize(a, dsize=(125, 125), interpolation=cv2.INTER_CUBIC)\n",
        "   landscapes_dataset.append(res)"
      ],
      "metadata": {
        "id": "SZDlxUaJr3mF"
      },
      "execution_count": null,
      "outputs": []
    },
    {
      "cell_type": "code",
      "source": [
        "landscapes_dataset = np.array(landscapes_dataset)"
      ],
      "metadata": {
        "id": "-rMu1Rj8sa4Y"
      },
      "execution_count": null,
      "outputs": []
    },
    {
      "cell_type": "code",
      "source": [
        "landscapes_dataset.shape"
      ],
      "metadata": {
        "id": "IeYFtJwZtogK"
      },
      "execution_count": null,
      "outputs": []
    },
    {
      "cell_type": "code",
      "source": [
        "non_humans = []\n",
        "for i in range(0,4319):\n",
        "  non_humans.append(0)"
      ],
      "metadata": {
        "id": "0v7S2XVxvRoz"
      },
      "execution_count": null,
      "outputs": []
    },
    {
      "cell_type": "code",
      "source": [
        "landscapes_dataset = (landscapes_dataset / 255.0)"
      ],
      "metadata": {
        "id": "FWcIlLXIaTuK"
      },
      "execution_count": null,
      "outputs": []
    }
  ],
  "metadata": {
    "colab": {
      "collapsed_sections": [
        "HP2YvmBWcKvG",
        "UABk7lsN0bcJ",
        "2gJEgAiiF4_Q",
        "fCIM1OKldA0J",
        "dMj1HsMs7eWJ",
        "BrTubRn-Cb-3"
      ],
      "provenance": [],
      "include_colab_link": true
    },
    "gpuClass": "standard",
    "kernelspec": {
      "display_name": "Python 3",
      "name": "python3"
    },
    "language_info": {
      "name": "python"
    },
    "accelerator": "GPU"
  },
  "nbformat": 4,
  "nbformat_minor": 0
}