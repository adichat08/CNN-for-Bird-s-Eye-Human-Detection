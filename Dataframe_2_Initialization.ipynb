{
  "cells": [
    {
      "cell_type": "markdown",
      "metadata": {
        "id": "view-in-github",
        "colab_type": "text"
      },
      "source": [
        "<a href=\"https://colab.research.google.com/github/adichat08/CNN-for-Bird-s-Eye-Human-Detection/blob/main/Dataframe_2_Initialization.ipynb\" target=\"_parent\"><img src=\"https://colab.research.google.com/assets/colab-badge.svg\" alt=\"Open In Colab\"/></a>"
      ]
    },
    {
      "cell_type": "markdown",
      "metadata": {
        "id": "R6RhDgH5R7Pd"
      },
      "source": [
        "# Dataframe 2 Initialization"
      ]
    },
    {
      "cell_type": "markdown",
      "source": [
        "This is the intialization of the second dataset that makes up the combined set. Only relevant images were used and others were removed."
      ],
      "metadata": {
        "id": "wBoGIJUw0X0L"
      }
    },
    {
      "cell_type": "code",
      "execution_count": null,
      "metadata": {
        "id": "upM-A7x4R7Pe"
      },
      "outputs": [],
      "source": [
        "import zipfile\n",
        "with zipfile.ZipFile(\"horses_or_humans.zip\", \"r\") as zip_ref:\n",
        "    zip_ref.extractall(\"foo_h\")"
      ]
    },
    {
      "cell_type": "code",
      "execution_count": null,
      "metadata": {
        "id": "vGPPBgwtR7Pe"
      },
      "outputs": [],
      "source": [
        "import glob\n",
        "import cv2\n",
        "dataset_h = []\n",
        "files = glob.glob (\"foo_h/horse-or-human/train/humans/*.png\")\n",
        "for myFile in files:\n",
        "  image = cv2.imread(myFile)\n",
        "  res = cv2.resize(image, dsize=(125, 125), interpolation=cv2.INTER_CUBIC)\n",
        "  dataset_h.append(res)\n",
        "dataset_h = np.array(dataset_h)\n",
        "print(dataset_h)"
      ]
    },
    {
      "cell_type": "code",
      "execution_count": null,
      "metadata": {
        "id": "DN4Yv6VOjRET"
      },
      "outputs": [],
      "source": [
        "print(len(dataset_h))"
      ]
    },
    {
      "cell_type": "code",
      "execution_count": null,
      "metadata": {
        "id": "dwh8t0tfpjU2"
      },
      "outputs": [],
      "source": [
        "# humans_0_h = []\n",
        "# for i in range(362):\n",
        "#   humans_0_h.append(0)"
      ]
    },
    {
      "cell_type": "code",
      "execution_count": null,
      "metadata": {
        "id": "V6SHmchnpr0t"
      },
      "outputs": [],
      "source": [
        "# humans_1_h = []\n",
        "# for i in range(559):\n",
        "#   humans_1_h.append(1)"
      ]
    },
    {
      "cell_type": "code",
      "execution_count": null,
      "metadata": {
        "id": "_SmBIwcCR7Pe"
      },
      "outputs": [],
      "source": [
        "humans_h = []\n",
        "for i in range(527):\n",
        "  humans_h.append(1)\n",
        "humans_h = np.array(humans_h)"
      ]
    },
    {
      "cell_type": "code",
      "execution_count": null,
      "metadata": {
        "id": "S9oPrP85R7Pf"
      },
      "outputs": [],
      "source": [
        "# full_dataset_h = list(full_dataset)\n",
        "# for i in dataset_h:\n",
        "#   full_dataset_h.append(i)"
      ]
    },
    {
      "cell_type": "code",
      "execution_count": null,
      "metadata": {
        "id": "vzNgFbOIpAIH"
      },
      "outputs": [],
      "source": [
        "# full_dataset_h = np.array(full_dataset_h)"
      ]
    },
    {
      "cell_type": "code",
      "execution_count": null,
      "metadata": {
        "id": "xqSxsleiR7Pf"
      },
      "outputs": [],
      "source": [
        "# print(full_dataset_h.shape)"
      ]
    },
    {
      "cell_type": "code",
      "execution_count": null,
      "metadata": {
        "id": "HJK0jl28R7Pf"
      },
      "outputs": [],
      "source": [
        "# humans_final_h = humans_0_h + humans_1_h + humans_h"
      ]
    },
    {
      "cell_type": "code",
      "execution_count": null,
      "metadata": {
        "id": "fVct4IbJqsTM"
      },
      "outputs": [],
      "source": [
        "# print(len(humans_final_h))"
      ]
    },
    {
      "cell_type": "code",
      "execution_count": null,
      "metadata": {
        "id": "TOGv8Xz-R7Pf"
      },
      "outputs": [],
      "source": [
        "# from sklearn.model_selection import train_test_split\n",
        "# X_h = full_dataset_h\n",
        "# y_h = humans_final_h\n",
        "# X_train_full_h, X_test_h, y_train_full_h, y_test_h = train_test_split(X_h,y_h, test_size=0.2, random_state=0)"
      ]
    },
    {
      "cell_type": "code",
      "execution_count": null,
      "metadata": {
        "id": "hu3gQX5wR7Pf"
      },
      "outputs": [],
      "source": [
        "# print(X_train_full_h.shape)"
      ]
    },
    {
      "cell_type": "code",
      "execution_count": null,
      "metadata": {
        "id": "oHCToC40R7Pf"
      },
      "outputs": [],
      "source": [
        "# X_train_full_h = np.array(X_train_full_h)\n",
        "# X_test_h = np.array(X_test_h)\n",
        "# y_train_full_h = np.array(y_train_full_h)\n",
        "# y_test_h = np.array(y_test_h)"
      ]
    },
    {
      "cell_type": "code",
      "execution_count": null,
      "metadata": {
        "id": "xhpZMLUTR7Pg"
      },
      "outputs": [],
      "source": [
        "# from sklearn.model_selection import train_test_split\n",
        "# X = X_train_full\n",
        "# y = y_train_full\n",
        "# X_train, X_val, y_train, y_val = train_test_split(X,y, test_size=0.2, random_state=0)"
      ]
    },
    {
      "cell_type": "code",
      "execution_count": null,
      "metadata": {
        "id": "quyYd-5zR7Pg"
      },
      "outputs": [],
      "source": [
        "# validation_dataframe = pd.DataFrame()\n",
        "# validation_dataframe['Humans'] = y_val\n",
        "# validation_dataframe[\"Image\"] = [i for i in X_val]\n",
        "# validation_dataframe"
      ]
    },
    {
      "cell_type": "code",
      "execution_count": null,
      "metadata": {
        "id": "QC4BIdYaR7Pg"
      },
      "outputs": [],
      "source": [
        "# train_dataframe = pd.DataFrame()\n",
        "# train_dataframe['Humans'] = y_train\n",
        "# train_dataframe[\"Image\"] = [i for i in X_train]\n",
        "# train_dataframe"
      ]
    },
    {
      "cell_type": "code",
      "execution_count": null,
      "metadata": {
        "id": "znlZHW0mR7Pg"
      },
      "outputs": [],
      "source": [
        "# test_dataframe = pd.DataFrame()\n",
        "# test_dataframe['Humans'] = y_test\n",
        "# test_dataframe[\"Image\"] = [i for i in X_test]\n",
        "# test_dataframe"
      ]
    },
    {
      "cell_type": "code",
      "execution_count": null,
      "metadata": {
        "id": "jMuIravpR7Ph"
      },
      "outputs": [],
      "source": [
        "# train_data = tf.data.Dataset.from_tensor_slices((X_train, y_train))"
      ]
    },
    {
      "cell_type": "code",
      "execution_count": null,
      "metadata": {
        "id": "aQ7stdKRR7Ph"
      },
      "outputs": [],
      "source": [
        "# validation_data = tf.data.Dataset.from_tensor_slices((X_val, y_val))"
      ]
    },
    {
      "cell_type": "code",
      "execution_count": null,
      "metadata": {
        "id": "O-u4qCL0R7Ph"
      },
      "outputs": [],
      "source": [
        "# test_data = tf.data.Dataset.from_tensor_slices((X_test, y_test))"
      ]
    }
  ],
  "metadata": {
    "colab": {
      "collapsed_sections": [
        "HP2YvmBWcKvG",
        "UABk7lsN0bcJ",
        "2gJEgAiiF4_Q",
        "fCIM1OKldA0J",
        "dMj1HsMs7eWJ",
        "BrTubRn-Cb-3"
      ],
      "provenance": [],
      "include_colab_link": true
    },
    "gpuClass": "standard",
    "kernelspec": {
      "display_name": "Python 3",
      "name": "python3"
    },
    "language_info": {
      "name": "python"
    },
    "accelerator": "GPU"
  },
  "nbformat": 4,
  "nbformat_minor": 0
}