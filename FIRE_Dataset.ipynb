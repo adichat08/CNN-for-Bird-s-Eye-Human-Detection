{
  "cells": [
    {
      "cell_type": "markdown",
      "metadata": {
        "id": "view-in-github",
        "colab_type": "text"
      },
      "source": [
        "<a href=\"https://colab.research.google.com/github/adichat08/CNN-for-Bird-s-Eye-Human-Detection/blob/main/FIRE_Dataset.ipynb\" target=\"_parent\"><img src=\"https://colab.research.google.com/assets/colab-badge.svg\" alt=\"Open In Colab\"/></a>"
      ]
    },
    {
      "cell_type": "markdown",
      "source": [
        "# FIRE Dataset"
      ],
      "metadata": {
        "id": "evFD00LnF92C"
      }
    },
    {
      "cell_type": "markdown",
      "source": [
        "This is a dataset of images of humans in hazardous scenarios. They are the most specific to the task."
      ],
      "metadata": {
        "id": "F2VpVshm3cfB"
      }
    },
    {
      "cell_type": "code",
      "source": [
        "import zipfile\n",
        "with zipfile.ZipFile(\"FIRE_dataset.zip\", \"r\") as zip_ref:\n",
        "    zip_ref.extractall(\"foo_F\")"
      ],
      "metadata": {
        "id": "44azmP47LfB2"
      },
      "execution_count": null,
      "outputs": []
    },
    {
      "cell_type": "code",
      "source": [
        "import cv2\n",
        "import glob\n",
        "FIRE_dataset = []\n",
        "file_lst = []\n",
        "path = \"foo_F/fire_dataset/fire_images/*.png*\"\n",
        "for file in glob.glob(path):\n",
        "\n",
        "  if '.' in file[36:39]:\n",
        "   file_lst.append(file[31:])\n",
        "   a= cv2.imread(file)\n",
        "   res = cv2.resize(a, dsize=(125, 125), interpolation=cv2.INTER_CUBIC)\n",
        "   FIRE_dataset.append(res)\n",
        "\n",
        "  elif int(file[36:39])<301:\n",
        "   file_lst.append(file[31:])\n",
        "   a= cv2.imread(file)\n",
        "   res = cv2.resize(a, dsize=(125, 125), interpolation=cv2.INTER_CUBIC)\n",
        "   FIRE_dataset.append(res)\n",
        "\n"
      ],
      "metadata": {
        "id": "uw0B2pBALt0L"
      },
      "execution_count": null,
      "outputs": []
    },
    {
      "cell_type": "code",
      "source": [
        "FIRE_dataset = np.array(FIRE_dataset)"
      ],
      "metadata": {
        "id": "WtGaNbIcL3RE"
      },
      "execution_count": null,
      "outputs": []
    },
    {
      "cell_type": "code",
      "source": [
        "print(len(FIRE_dataset))"
      ],
      "metadata": {
        "id": "7zX4XQrIMBIH"
      },
      "execution_count": null,
      "outputs": []
    },
    {
      "cell_type": "code",
      "source": [
        "plt.imshow(FIRE_dataset[24])"
      ],
      "metadata": {
        "id": "AXAipz2uHtOh"
      },
      "execution_count": null,
      "outputs": []
    },
    {
      "cell_type": "code",
      "source": [
        "file_lst"
      ],
      "metadata": {
        "id": "xeCR9s6PEiYo"
      },
      "execution_count": null,
      "outputs": []
    },
    {
      "cell_type": "code",
      "source": [
        "human_in_fire_lst = ['fire.1.png','fire.100.png','fire.101.png', 'fire.103.png','fire.104.png', 'fire.105.png','fire.109.png', 'fire.112.png', 'fire.114.png', 'fire.117.png', 'fire.118.png', 'fire.120.png',\n",
        "                     'fire.121.png', 'fire.122.png', 'fire.127.png', 'fire.130.png', 'fire.131.png', 'fire.133.png', 'fire.134.png', 'fire.136.png', 'fire.137.png', 'fire.139.png','fire.14.png', 'fire.14.png',\n",
        "                     'fire.148.png', 'fire.149.png', 'fire.157.png', 'fire.158.png', 'fire.16.png', 'fire.161.png', 'fire.162.png', 'fire.163.png', 'fire.164.png', 'fire.166.png', 'fire.167.png', 'fire.168.png',\n",
        "                     'fire.17.png', 'fire.170.png','fire.172.png', 'fire.173.png', 'fire.176.png', 'fire.177.png', 'fire.179.png', 'fire.181.png', 'fire.182.png', 'fire.183.png', 'fire.184.png', 'fire.187.png',\n",
        "                     'fire.190.png', 'fire.193.png', 'fire.194.png', 'fire.195.png', 'fire.198.png', 'fire.199.png', 'fire.202.png', 'fire.203.png', 'fire.204.png', 'fire.205.png', 'fire.206.png', 'fire.21.png',\n",
        "                     'fire.210.png', 'fire.211.png', 'fire.212.png', 'fire.215.png', 'fire.216.png', 'fire.217.png', 'fire.22.png', 'fire.223.png', 'fire.224.png', 'fire.225.png', 'fire.226.png', 'fire.227.png',\n",
        "                     'fire.228.png', 'fire.229.png', 'fire.23.png', 'fire.233.png', 'fire.235.png', 'fire.236.png', 'fire.237.png', 'fire.238.png', 'fire.24.png', 'fire.247.png', 'fire.249.png', 'fire.25.png',\n",
        "                     'fire.252.png', 'fire.258.png', 'fire.269.png', 'fire.272.png', 'fire.274.png', 'fire.279.png', 'fire.282.png', 'fire.283.png', 'fire.288.png', 'fire.293.png', 'fire.294.png', 'fire.296.png']"
      ],
      "metadata": {
        "id": "OIINeksNLBfr"
      },
      "execution_count": null,
      "outputs": []
    },
    {
      "cell_type": "code",
      "source": [
        "len(human_in_fire_lst)"
      ],
      "metadata": {
        "id": "n0UMTPu9_ToB"
      },
      "execution_count": null,
      "outputs": []
    },
    {
      "cell_type": "code",
      "source": [
        "file_lst.index('fire.1.png')"
      ],
      "metadata": {
        "id": "it4p_UyCHY3S"
      },
      "execution_count": null,
      "outputs": []
    },
    {
      "cell_type": "code",
      "source": [
        "humans_in_fire_y = []\n",
        "for i in range(len(file_lst)):\n",
        "  humans_in_fire_y.append(0)"
      ],
      "metadata": {
        "id": "dFfIyP8kJ-Ow"
      },
      "execution_count": null,
      "outputs": []
    },
    {
      "cell_type": "code",
      "source": [
        "ind_lst = []\n",
        "for i in human_in_fire_lst:\n",
        "  ind_lst.append(file_lst.index(i))"
      ],
      "metadata": {
        "id": "vqwt9OE6HfYr"
      },
      "execution_count": null,
      "outputs": []
    },
    {
      "cell_type": "code",
      "source": [
        "print(ind_lst)"
      ],
      "metadata": {
        "id": "3Cl4GM2HKRfZ"
      },
      "execution_count": null,
      "outputs": []
    },
    {
      "cell_type": "code",
      "source": [
        "for i in ind_lst:\n",
        "  humans_in_fire_y[i] = 1"
      ],
      "metadata": {
        "id": "PzesHsF1KVAD"
      },
      "execution_count": null,
      "outputs": []
    },
    {
      "cell_type": "code",
      "source": [
        "humans_in_fire_y = np.array(humans_in_fire_y)"
      ],
      "metadata": {
        "id": "2Ory1ocML6t9"
      },
      "execution_count": null,
      "outputs": []
    },
    {
      "cell_type": "code",
      "source": [
        "FIRE_dataset = (FIRE_dataset / 255.0)"
      ],
      "metadata": {
        "id": "R8y5FyPqQR52"
      },
      "execution_count": null,
      "outputs": []
    },
    {
      "cell_type": "code",
      "source": [
        "from sklearn.model_selection import train_test_split\n",
        "X = FIRE_dataset\n",
        "y = humans_in_fire_y\n",
        "FIRE_X_train, FIRE_X_test, FIRE_y_train, FIRE_y_test = train_test_split(X,y, test_size=0.3, random_state=0)"
      ],
      "metadata": {
        "id": "7kVbDBf1S6eM"
      },
      "execution_count": null,
      "outputs": []
    }
  ],
  "metadata": {
    "colab": {
      "collapsed_sections": [
        "HP2YvmBWcKvG",
        "UABk7lsN0bcJ",
        "2gJEgAiiF4_Q",
        "fCIM1OKldA0J",
        "dMj1HsMs7eWJ",
        "BrTubRn-Cb-3"
      ],
      "provenance": [],
      "include_colab_link": true
    },
    "gpuClass": "standard",
    "kernelspec": {
      "display_name": "Python 3",
      "name": "python3"
    },
    "language_info": {
      "name": "python"
    },
    "accelerator": "GPU"
  },
  "nbformat": 4,
  "nbformat_minor": 0
}