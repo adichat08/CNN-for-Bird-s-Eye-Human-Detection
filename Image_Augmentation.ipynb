{
  "cells": [
    {
      "cell_type": "markdown",
      "metadata": {
        "id": "view-in-github",
        "colab_type": "text"
      },
      "source": [
        "<a href=\"https://colab.research.google.com/github/adichat08/CNN-for-Bird-s-Eye-Human-Detection/blob/main/Image_Augmentation.ipynb\" target=\"_parent\"><img src=\"https://colab.research.google.com/assets/colab-badge.svg\" alt=\"Open In Colab\"/></a>"
      ]
    },
    {
      "cell_type": "markdown",
      "metadata": {
        "id": "O5zikCghQCFZ"
      },
      "source": [
        "# Image Augmentation"
      ]
    },
    {
      "cell_type": "code",
      "execution_count": null,
      "metadata": {
        "id": "YtlNk3zNhsJQ"
      },
      "outputs": [],
      "source": [
        "X_train_full = (X_train_full / 255.0)\n",
        "X_test = (X_test / 255.0)"
      ]
    },
    {
      "cell_type": "code",
      "execution_count": null,
      "metadata": {
        "id": "Q7d45r3FQ2uS"
      },
      "outputs": [],
      "source": [
        "data_augmentation_1 = tf.keras.Sequential([\n",
        "     layers.experimental.preprocessing.RandomFlip(\"horizontal_and_vertical\"),\n",
        "     layers.experimental.preprocessing.RandomRotation(0.4),\n",
        "     layers.experimental.preprocessing.RandomContrast((0.5,1.5)),\n",
        "     layers.experimental.preprocessing.RandomZoom(height_factor=(-0.3,1),width_factor=(-0.3,1))\n",
        "     ])"
      ]
    },
    {
      "cell_type": "code",
      "execution_count": null,
      "metadata": {
        "id": "AVpuh06vRMKL"
      },
      "outputs": [],
      "source": [
        "X_train_full_augmented = []\n",
        "for i in X_train_full:\n",
        "  X_train_full_augmented.append(data_augmentation_1(i))"
      ]
    },
    {
      "cell_type": "code",
      "execution_count": null,
      "metadata": {
        "id": "em7Ff8eKSrhP"
      },
      "outputs": [],
      "source": [
        "# X_train_full_augmented_2 = []\n",
        "# for i in X_train_full:\n",
        "#   X_train_full_augmented_2.append(data_augmentation_1(i))"
      ]
    },
    {
      "cell_type": "code",
      "execution_count": null,
      "metadata": {
        "id": "UGbyS_0ti62k"
      },
      "outputs": [],
      "source": [
        "X_train_full_augmented = np.array(X_train_full_augmented)\n",
        "# X_train_full_augmented_2 = np.array(X_train_full_augmented_2)"
      ]
    },
    {
      "cell_type": "code",
      "execution_count": null,
      "metadata": {
        "id": "1_LE02MMjBEU"
      },
      "outputs": [],
      "source": [
        "# X_train_full_2 = np.vstack((X_train_full,X_train_full_augmented))\n",
        "# X_train_full_2 = np.vstack((X_train_full_2,X_train_full_augmented_2))"
      ]
    },
    {
      "cell_type": "code",
      "execution_count": null,
      "metadata": {
        "id": "T0NfAjLZmCJN"
      },
      "outputs": [],
      "source": [
        "# y_train_augmented = list(y_train_full)\n",
        "# y_train_augmented_2 = list(y_train_full)\n",
        "# y_train_full_2 = list(y_train_full) + y_train_augmented + y_train_augmented_2"
      ]
    },
    {
      "cell_type": "code",
      "execution_count": null,
      "metadata": {
        "id": "irnBBTaqmnFR"
      },
      "outputs": [],
      "source": [
        "# y_train_full_2 = np.array(y_train_full_2)\n",
        "# len(y_train_full_2)"
      ]
    },
    {
      "cell_type": "code",
      "execution_count": null,
      "metadata": {
        "id": "lO5VBTQconVK"
      },
      "outputs": [],
      "source": [
        "# len(X_train_full_2)"
      ]
    },
    {
      "cell_type": "code",
      "execution_count": null,
      "metadata": {
        "id": "SyH-mF-dtvS9"
      },
      "outputs": [],
      "source": [
        "# del X_train_full_augmented\n",
        "# del y_train_augmented\n",
        "# del X_train_full_augmented_2\n",
        "# del y_train_augmented_2"
      ]
    }
  ],
  "metadata": {
    "colab": {
      "collapsed_sections": [
        "HP2YvmBWcKvG",
        "UABk7lsN0bcJ",
        "2gJEgAiiF4_Q",
        "fCIM1OKldA0J",
        "dMj1HsMs7eWJ",
        "BrTubRn-Cb-3"
      ],
      "provenance": [],
      "include_colab_link": true
    },
    "gpuClass": "standard",
    "kernelspec": {
      "display_name": "Python 3",
      "name": "python3"
    },
    "language_info": {
      "name": "python"
    },
    "accelerator": "GPU"
  },
  "nbformat": 4,
  "nbformat_minor": 0
}